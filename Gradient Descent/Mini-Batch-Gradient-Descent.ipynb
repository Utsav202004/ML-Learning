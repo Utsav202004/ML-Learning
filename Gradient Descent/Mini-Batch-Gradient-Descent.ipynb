{
 "cells": [
  {
   "cell_type": "markdown",
   "id": "aec7b2c2-4a9c-46fd-950a-79644e86bf68",
   "metadata": {},
   "source": [
    "# Mini Batch Gradient Descent"
   ]
  },
  {
   "cell_type": "markdown",
   "id": "be9aea77-2477-45ea-a037-63ce3cba84d0",
   "metadata": {},
   "source": [
    "This is the solution to the problems associated with Batch and Stochastic Gradient Descent"
   ]
  },
  {
   "cell_type": "code",
   "execution_count": 1,
   "id": "3e7106b9-fe93-4748-a533-a096f1098d2b",
   "metadata": {},
   "outputs": [],
   "source": [
    "from sklearn.datasets import load_diabetes\n",
    "from sklearn.linear_model import LinearRegression\n",
    "from sklearn.model_selection import train_test_split\n",
    "import pandas as pd\n",
    "import numpy as np\n",
    "from sklearn.metrics import r2_score"
   ]
  },
  {
   "cell_type": "code",
   "execution_count": 4,
   "id": "e451ab1d-b51f-43cb-9e3d-3e33bd74402d",
   "metadata": {},
   "outputs": [
    {
     "name": "stdout",
     "output_type": "stream",
     "text": [
      "0.439933866156897 151.88331005254167 [  -9.15865318 -205.45432163  516.69374454  340.61999905 -895.5520019\n",
      "  561.22067904  153.89310954  126.73139688  861.12700152   52.42112238]\n"
     ]
    }
   ],
   "source": [
    "X, y = load_diabetes(return_X_y=True)\n",
    "\n",
    "X_train, X_test, y_train, y_test = train_test_split(X, y, test_size=0.2, random_state=2)\n",
    "\n",
    "reg = LinearRegression()\n",
    "reg.fit(X_train, y_train)\n",
    "y_pred_act = reg.predict(X_test)\n",
    "\n",
    "r2Score = r2_score(y_test, y_pred_act)\n",
    "intercept_act = reg.intercept_\n",
    "coef_act = reg.coef_\n",
    "\n",
    "print(r2Score, intercept_act, coef_act)"
   ]
  },
  {
   "cell_type": "code",
   "execution_count": 6,
   "id": "afe855c4-c9fe-469a-8c49-a1526b1347a3",
   "metadata": {},
   "outputs": [],
   "source": [
    "import random\n",
    "class MiniBatchGDReg:\n",
    "\n",
    "    def __init__(self, batch_size, learning_rate = 0.01, epochs = 100):\n",
    "        self.coef_ = None\n",
    "        self.intercept_ = None\n",
    "        self.lr = learning_rate\n",
    "        self.epochs = epochs\n",
    "        self.batch_size = batch_size\n",
    "\n",
    "    def fit(self, X_train, y_train):\n",
    "        self.intercept_ = 0\n",
    "        self.coef_ = np.ones(X_train.shape[1])\n",
    "\n",
    "        for i in range(self.epochs):\n",
    "            for j in range(int(X_train.shape[0]/self.batch_size)):\n",
    "                idx = random.sample(range(X_train.shape[0]), self.batch_size)\n",
    "                \n",
    "                y_hat = np.dot(X_train[idx], self.coef_) + self.intercept_\n",
    "                intercept_der = -2 * np.mean(y_train[idx] - y_hat)\n",
    "                self.intercept_ = self.intercept_ - (self.lr * intercept_der)\n",
    "\n",
    "                coef_der = -2 * np.dot((y_train[idx] - y_hat), X_train[idx])\n",
    "                self.coef_ = self.coef_ - (self.lr * coef_der)\n",
    "\n",
    "    def predict(self, X_test):\n",
    "        return np.dot(X_test, self.coef_) + self.intercept_"
   ]
  },
  {
   "cell_type": "code",
   "execution_count": 7,
   "id": "512d6f85-b83c-4c1a-b17a-e355c3cb29ae",
   "metadata": {},
   "outputs": [],
   "source": [
    "mbr = MiniBatchGDReg(batch_size=int(X_train.shape[0]/10))"
   ]
  },
  {
   "cell_type": "code",
   "execution_count": 8,
   "id": "f7c215a6-77e4-4aaa-a0e2-162864543e1d",
   "metadata": {},
   "outputs": [],
   "source": [
    "mbr.fit(X_train, y_train)"
   ]
  },
  {
   "cell_type": "code",
   "execution_count": 9,
   "id": "3e543363-2117-4370-b0b0-bea34b97e491",
   "metadata": {},
   "outputs": [],
   "source": [
    "y_pred = mbr.predict(X_test)"
   ]
  },
  {
   "cell_type": "code",
   "execution_count": 10,
   "id": "b2aea22f-dc1a-4799-953c-6035be87b21c",
   "metadata": {},
   "outputs": [
    {
     "data": {
      "text/plain": [
       "0.45291749673643567"
      ]
     },
     "execution_count": 10,
     "metadata": {},
     "output_type": "execute_result"
    }
   ],
   "source": [
    "r2_score(y_test, y_pred)"
   ]
  },
  {
   "cell_type": "code",
   "execution_count": null,
   "id": "815e78f2-7101-4cdc-a996-8a45975d2237",
   "metadata": {},
   "outputs": [],
   "source": []
  }
 ],
 "metadata": {
  "kernelspec": {
   "display_name": "Python 3 (ipykernel)",
   "language": "python",
   "name": "python3"
  },
  "language_info": {
   "codemirror_mode": {
    "name": "ipython",
    "version": 3
   },
   "file_extension": ".py",
   "mimetype": "text/x-python",
   "name": "python",
   "nbconvert_exporter": "python",
   "pygments_lexer": "ipython3",
   "version": "3.12.7"
  }
 },
 "nbformat": 4,
 "nbformat_minor": 5
}
