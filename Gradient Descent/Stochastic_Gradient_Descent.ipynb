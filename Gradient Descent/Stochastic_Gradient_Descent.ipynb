{
 "cells": [
  {
   "cell_type": "markdown",
   "id": "c0dd30fb-3545-4483-b1db-dee77955b2ee",
   "metadata": {},
   "source": [
    "# Stochastic Gradient Descent"
   ]
  },
  {
   "cell_type": "markdown",
   "id": "33029727-53ff-44ca-be50-8c3beb207388",
   "metadata": {},
   "source": [
    "This is the solution to the main problem of Batch Gradient Descent, processing power, hardware."
   ]
  },
  {
   "cell_type": "markdown",
   "id": "b26d8b4f-3819-4922-9da5-01af85765262",
   "metadata": {},
   "source": [
    "This gives Faster Convergance and works on normal hardware as well."
   ]
  },
  {
   "cell_type": "code",
   "execution_count": 1,
   "id": "4cb1b133-67f6-47a6-8c53-5f0d824a2008",
   "metadata": {},
   "outputs": [],
   "source": [
    "from sklearn.datasets import load_diabetes\n",
    "import pandas as pd\n",
    "import numpy as np\n",
    "from sklearn.model_selection import train_test_split\n",
    "from sklearn.metrics import r2_score\n",
    "from sklearn.linear_model import LinearRegression"
   ]
  },
  {
   "cell_type": "code",
   "execution_count": 2,
   "id": "f5314c56-1196-4ffa-a818-4e8817fddb1f",
   "metadata": {},
   "outputs": [],
   "source": [
    "X, y = load_diabetes(return_X_y=True)"
   ]
  },
  {
   "cell_type": "code",
   "execution_count": 3,
   "id": "f2d33a1e-6afc-4efb-9566-130f8a723c67",
   "metadata": {},
   "outputs": [
    {
     "name": "stdout",
     "output_type": "stream",
     "text": [
      "(442, 10) (442,)\n"
     ]
    }
   ],
   "source": [
    "print(X.shape, y.shape)"
   ]
  },
  {
   "cell_type": "code",
   "execution_count": 6,
   "id": "a71be04f-cfd3-4c19-a25d-f69de9aca88e",
   "metadata": {},
   "outputs": [
    {
     "name": "stdout",
     "output_type": "stream",
     "text": [
      "[  -9.15865318 -205.45432163  516.69374454  340.61999905 -895.5520019\n",
      "  561.22067904  153.89310954  126.73139688  861.12700152   52.42112238] 151.88331005254167 0.439933866156897\n"
     ]
    }
   ],
   "source": [
    "X_train, X_test, y_train, y_test = train_test_split(X, y, test_size=0.2, random_state=2)\n",
    "reg = LinearRegression()\n",
    "reg.fit(X_train, y_train)\n",
    "y_pred_act = reg.predict(X_test)\n",
    "r2Score = r2_score(y_test, y_pred_act)\n",
    "intercept_act = reg.intercept_\n",
    "coeff_act = reg.coef_\n",
    "\n",
    "print(coeff_act, intercept_act, r2Score)"
   ]
  },
  {
   "cell_type": "code",
   "execution_count": 24,
   "id": "9c6eb027-f993-4ea1-8143-a3b574beb86c",
   "metadata": {},
   "outputs": [],
   "source": [
    "class GDReg:\n",
    "    def __init__(self, learning_rate = 0.01, epochs = 100):\n",
    "        self.coef_ = None\n",
    "        self.intercept_ = None\n",
    "        self.lr = learning_rate\n",
    "        self.epochs = epochs\n",
    "\n",
    "    def fit(self, X_train, y_train):\n",
    "        self.intercept_ = 0\n",
    "        self.coef_ = np.ones(X_train.shape[1])\n",
    "\n",
    "        for i in range(self.epochs):\n",
    "            for j in range(X_train.shape[0]):\n",
    "                idx = np.random.randint(0, X_train.shape[0])\n",
    "                \n",
    "                y_hat = np.dot(X_train[idx], self.coef_) + self.intercept_\n",
    "                \n",
    "                intercept_der = -2 * (y_train[idx] - y_hat)\n",
    "                self.intercept_ = self.intercept_ - (self.lr * intercept_der)\n",
    "                \n",
    "                coef_der = -2* np.dot((y_train[idx] - y_hat), X_train[idx])\n",
    "                self.coef_ = self.coef_ - (self.lr * coef_der)\n",
    "\n",
    "    def predict(self, X_test):\n",
    "        return np.dot(X_test, self.coef_) + self.intercept_"
   ]
  },
  {
   "cell_type": "code",
   "execution_count": 25,
   "id": "f0d55709-408c-43c6-a9dc-6c90bcfdeaad",
   "metadata": {},
   "outputs": [],
   "source": [
    "sgd = GDReg(learning_rate=0.01, epochs=40)"
   ]
  },
  {
   "cell_type": "code",
   "execution_count": 27,
   "id": "618d1608-c8e1-4590-97dc-a63f64e55981",
   "metadata": {},
   "outputs": [
    {
     "data": {
      "text/plain": [
       "0.40342772028311014"
      ]
     },
     "execution_count": 27,
     "metadata": {},
     "output_type": "execute_result"
    }
   ],
   "source": [
    "sgd.fit(X_train, y_train)\n",
    "y_pred = sgd.predict(X_test)\n",
    "r2_score(y_test, y_pred)"
   ]
  },
  {
   "cell_type": "code",
   "execution_count": null,
   "id": "cc5cd07d-2161-43c0-8cef-f0d9f7c0aa7e",
   "metadata": {},
   "outputs": [],
   "source": []
  },
  {
   "cell_type": "code",
   "execution_count": null,
   "id": "ee9e4a7a-62cf-41ef-ab14-454e7c200240",
   "metadata": {},
   "outputs": [],
   "source": []
  }
 ],
 "metadata": {
  "kernelspec": {
   "display_name": "Python 3 (ipykernel)",
   "language": "python",
   "name": "python3"
  },
  "language_info": {
   "codemirror_mode": {
    "name": "ipython",
    "version": 3
   },
   "file_extension": ".py",
   "mimetype": "text/x-python",
   "name": "python",
   "nbconvert_exporter": "python",
   "pygments_lexer": "ipython3",
   "version": "3.12.7"
  }
 },
 "nbformat": 4,
 "nbformat_minor": 5
}
