{
 "cells": [
  {
   "cell_type": "markdown",
   "id": "2d5135ff-93ee-4bd7-a071-b0847fae5fe3",
   "metadata": {},
   "source": [
    "# Gradient Descent Implementation using a custom class"
   ]
  },
  {
   "cell_type": "markdown",
   "id": "f587df56-7933-4f79-a9d1-a796e4cc63b6",
   "metadata": {},
   "source": [
    "We will create a custom class that implements gradient descent to a fabricated dataset. We will only use one input feature for this case."
   ]
  },
  {
   "cell_type": "code",
   "execution_count": 4,
   "id": "ffe1c4e2-be95-4618-9df8-2c783a96bb32",
   "metadata": {},
   "outputs": [],
   "source": [
    "import pandas as pd\n",
    "import numpy as np\n",
    "from sklearn.datasets import make_regression\n",
    "import matplotlib.pyplot as plt"
   ]
  },
  {
   "cell_type": "code",
   "execution_count": 9,
   "id": "8a2203cc-3434-4184-9983-bac2cc525451",
   "metadata": {},
   "outputs": [],
   "source": [
    "X,y = make_regression(n_features=1,noise=20)"
   ]
  },
  {
   "cell_type": "code",
   "execution_count": 10,
   "id": "fb23d1a1-482a-4b91-b453-27fd0dc07e10",
   "metadata": {},
   "outputs": [
    {
     "data": {
      "text/plain": [
       "<matplotlib.collections.PathCollection at 0x1453085c0>"
      ]
     },
     "execution_count": 10,
     "metadata": {},
     "output_type": "execute_result"
    },
    {
     "data": {
      "image/png": "[encoded data removed]",
      "text/plain": [
       "<Figure size 640x480 with 1 Axes>"
      ]
     },
     "metadata": {},
     "output_type": "display_data"
    }
   ],
   "source": [
    "plt.scatter(X, y)"
   ]
  },
  {
   "cell_type": "markdown",
   "id": "b72c23c6-3ce1-45ef-9ab1-e3cc079714f6",
   "metadata": {
    "jp-MarkdownHeadingCollapsed": true
   },
   "source": [
    "## Using OLS to find the actual data for Cross checking"
   ]
  },
  {
   "cell_type": "code",
   "execution_count": 72,
   "id": "2c861d71-8e28-4bca-9f43-fb15bb46e7fd",
   "metadata": {},
   "outputs": [
    {
     "name": "stdout",
     "output_type": "stream",
     "text": [
      "Coefficient is [55.42840082] and the intercept is 0.07438509470930832\n"
     ]
    }
   ],
   "source": [
    "from sklearn.linear_model import LinearRegression\n",
    "\n",
    "reg = LinearRegression()\n",
    "reg.fit(X, y)\n",
    "\n",
    "m = reg.coef_\n",
    "bb = reg.intercept_\n",
    "print(f\"Coefficient is {m} and the intercept is {b}\")\n",
    "\n",
    "y_pred = reg.predict(X)"
   ]
  },
  {
   "cell_type": "markdown",
   "id": "485fc6ce-a924-4e1e-8bb6-059af49357f0",
   "metadata": {},
   "source": [
    "## Taking 'm' and working on 'b'"
   ]
  },
  {
   "cell_type": "code",
   "execution_count": 65,
   "id": "f4bd3841-fc55-48ab-85a6-10aae23fd6c8",
   "metadata": {},
   "outputs": [],
   "source": [
    "class GDReg:\n",
    "\n",
    "    def __init__(self, learning_rate = 0.001, epochs = 100):\n",
    "        self.m = m\n",
    "        self.b = -200 # a random value, extreme to check the robustness of GD\n",
    "        self.lr = learning_rate\n",
    "        self.epochs = epochs\n",
    "\n",
    "    def fit(self, X, y):\n",
    "        # calculating the new b using the loss slope function\n",
    "        for i in range(self.epochs):\n",
    "            loss_slope = -2 * np.sum(y - self.m*X.ravel() - self.b)\n",
    "            self.b = self.b - ( self.lr*loss_slope )\n",
    "\n",
    "    def predict(self,X_test):\n",
    "        y_pred = ((m*X) + slef.b).reshape(100)"
   ]
  },
  {
   "cell_type": "markdown",
   "id": "1fa1df04-2fa1-489a-a1fd-1900677d0e7d",
   "metadata": {},
   "source": [
    "See how we need to make a balance of both the number of Epochs and the Learning Rate:"
   ]
  },
  {
   "cell_type": "code",
   "execution_count": 70,
   "id": "371553d0-f74b-4f2d-aa23-21c11f57fee7",
   "metadata": {},
   "outputs": [
    {
     "name": "stdout",
     "output_type": "stream",
     "text": [
      "For LR: 0.1 and Epochs: 10, Slope is: -1226669311504455.75 and diff is : 1226669311504455.75\n",
      "For LR 0.1 and Epochs: 100, Slope is: -15015907561824557759302001876781476269903773273562731628367499209644199239134717885980714276956585861053043105574541340207910748160.00 and diff is : 15015907561824557759302001876781476269903773273562731628367499209644199239134717885980714276956585861053043105574541340207910748160.00\n",
      "For LR 0.1 and Epochs: 1000, Slope is: nan and diff is : nan\n",
      "For LR 0.01 and Epochs: 100, Slope is: -200.00 and diff is : 200.07\n",
      "For LR 0.001 and Epochs: 100, Slope is: 0.07438505395343634 and diff is : 4.075587198282271e-08\n"
     ]
    },
    {
     "name": "stderr",
     "output_type": "stream",
     "text": [
      "/var/folders/nm/r0qdzw9d3rv2qzx2_t5v99th0000gn/T/ipykernel_15363/1883993802.py:13: RuntimeWarning: invalid value encountered in scalar subtract\n",
      "  self.b = self.b - ( self.lr*loss_slope )\n"
     ]
    }
   ],
   "source": [
    "gd1 = GDReg(0.1,10)\n",
    "gd1.fit(X,y)\n",
    "print(f\"For LR: {0.1} and Epochs: {10}, Slope is: {(gd1.b):.2f} and diff is : {(bb - gd1.b):.2f}\")\n",
    "\n",
    "gd2= GDReg(0.1,100)\n",
    "gd2.fit(X,y)\n",
    "print(f\"For LR {0.1} and Epochs: {100}, Slope is: {gd2.b:.2f} and diff is : {(bb - gd2.b):.2f}\")\n",
    "\n",
    "gd3= GDReg(0.1,1000)\n",
    "gd3.fit(X,y)\n",
    "print(f\"For LR {0.1} and Epochs: {1000}, Slope is: {gd3.b:.2f} and diff is : {(bb - gd3.b):.2f}\")\n",
    "\n",
    "gd4= GDReg(0.01,100)\n",
    "gd4.fit(X,y)\n",
    "print(f\"For LR {0.01} and Epochs: {100}, Slope is: {gd4.b:.2f} and diff is : {(bb - gd4.b):.2f}\")\n",
    "\n",
    "gd5= GDReg(0.001,100)\n",
    "gd5.fit(X,y)\n",
    "print(f\"For LR {0.001} and Epochs: {100}, Slope is: {gd5.b} and diff is : {(bb - gd5.b)}\")"
   ]
  },
  {
   "cell_type": "markdown",
   "id": "2ffd5ac1-f07a-406b-acb5-e5b0e43ea08d",
   "metadata": {},
   "source": [
    "As we can see, learning rate is a must watch, we should keep it small. The b for Lr = 0.1 and epochs=1000, is out of bound"
   ]
  },
  {
   "cell_type": "markdown",
   "id": "486e6357-448b-4108-ba44-1b83fd9d772a",
   "metadata": {},
   "source": [
    "Now we have the loss function as sum of two variables. And we need to find the b and m where the 3D structure reaches its minima."
   ]
  },
  {
   "cell_type": "markdown",
   "id": "e8bc1408-bdc4-4834-aac7-efffe175a36c",
   "metadata": {},
   "source": [
    "Then we can initialize some random values for 'b' and 'm', and work on improving them both."
   ]
  },
  {
   "cell_type": "code",
   "execution_count": null,
   "id": "83988f53-4dcb-47b0-a60e-e6ab34bb2cd7",
   "metadata": {},
   "outputs": [],
   "source": []
  }
 ],
 "metadata": {
  "kernelspec": {
   "display_name": "Python 3 (ipykernel)",
   "language": "python",
   "name": "python3"
  },
  "language_info": {
   "codemirror_mode": {
    "name": "ipython",
    "version": 3
   },
   "file_extension": ".py",
   "mimetype": "text/x-python",
   "name": "python",
   "nbconvert_exporter": "python",
   "pygments_lexer": "ipython3",
   "version": "3.12.7"
  }
 },
 "nbformat": 4,
 "nbformat_minor": 5
}
