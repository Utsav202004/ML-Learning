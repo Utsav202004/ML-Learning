{
 "cells": [
  {
   "cell_type": "markdown",
   "id": "89dae303-33d0-413f-8654-327fca9e46fc",
   "metadata": {},
   "source": [
    "# Regression Metrics"
   ]
  },
  {
   "cell_type": "markdown",
   "id": "a4403653-344a-4f70-9103-a2531bcee250",
   "metadata": {},
   "source": [
    "Different kind of Metrics for Regression:\n",
    "1) MAE\n",
    "2) MSE\n",
    "3) RMSE\n",
    "4) R2 Score\n",
    "5) Adjusted R2 score"
   ]
  },
  {
   "cell_type": "markdown",
   "id": "a0cfbe59-9ffa-4e5d-a252-32d6997d3986",
   "metadata": {},
   "source": [
    "Note that the normal accuracy score we used is not applicable to linear regression, as it tells the proportion of the prediction which is correct. This can be misleading in the case of Regression model as that is not the aim."
   ]
  },
  {
   "cell_type": "markdown",
   "id": "2882025d-6d1a-45e5-9976-53658db9a9d7",
   "metadata": {
    "jp-MarkdownHeadingCollapsed": true
   },
   "source": [
    "## MAE (Mean Absolute Error)"
   ]
  },
  {
   "cell_type": "markdown",
   "id": "e1b67bcd-93a1-411a-bdcf-9f542fc1b7bb",
   "metadata": {},
   "source": [
    "Mean of Sum of Absolute values of difference in y_pred and y_actual"
   ]
  },
  {
   "cell_type": "markdown",
   "id": "397149af-9f9b-43a3-be17-682ea70a2821",
   "metadata": {},
   "source": [
    "Advantage: \n",
    "\n",
    "1) Unit of loss is same as the data(no squaring here)\n",
    "2) Robust for outlers\n",
    "\n",
    "Disadvantage:\n",
    "\n",
    "1) Modulus is not differentibale at x = 0, we need differentiable"
   ]
  },
  {
   "cell_type": "markdown",
   "id": "c0df1b60-a0f5-4577-b3bc-238629b35251",
   "metadata": {
    "jp-MarkdownHeadingCollapsed": true
   },
   "source": [
    "## MSE (Mean Squared Error)"
   ]
  },
  {
   "cell_type": "markdown",
   "id": "33582ed4-4f48-495f-8443-799172189307",
   "metadata": {},
   "source": [
    "Here we take the squares of values as well, then mean "
   ]
  },
  {
   "cell_type": "markdown",
   "id": "57439f94-f74c-40d9-8741-0730d8369364",
   "metadata": {},
   "source": [
    "Disadvantage:\n",
    "\n",
    "1) Unit is squared, difficult to interpret\n",
    "2) Outliers are penalised a lot, due to square. Not Robust to outlier"
   ]
  },
  {
   "cell_type": "markdown",
   "id": "869ea9e1-0695-4b83-877c-bdc9fcb2aae3",
   "metadata": {
    "jp-MarkdownHeadingCollapsed": true
   },
   "source": [
    "## RMSE (Root of MSE)"
   ]
  },
  {
   "cell_type": "markdown",
   "id": "7e828d76-c4f5-476e-baeb-b4b66f7d28e5",
   "metadata": {},
   "source": [
    "Root of the above MSE, gives the same unit as input, not robust to outliers."
   ]
  },
  {
   "cell_type": "markdown",
   "id": "4739b003-5433-4719-85af-f204e42dfcba",
   "metadata": {
    "jp-MarkdownHeadingCollapsed": true
   },
   "source": [
    "## R2 Score (Coeff of Determination) (Goodness of fit)"
   ]
  },
  {
   "cell_type": "markdown",
   "id": "0bf309ab-e574-4d76-988e-b2550d2a6a5c",
   "metadata": {},
   "source": [
    "This gives a understandable value indpendent of the values, unline MSE and MAE. "
   ]
  },
  {
   "cell_type": "markdown",
   "id": "f10cb942-5ed6-4c62-9c29-5489a657efa5",
   "metadata": {},
   "source": [
    "R2 = 1 - (SSr/SSm) , Sum of sq error in regression line and mean line"
   ]
  },
  {
   "cell_type": "markdown",
   "id": "774725e6-f5b8-4ddc-8bec-10a3b0d507fa",
   "metadata": {},
   "source": [
    "1) R2 = 0, means their is no benefit of paramter\n",
    "2) R2 = 1, means regression is perfect\n",
    "3) R2 < 0, means mean line is better in predicting than regression line"
   ]
  },
  {
   "cell_type": "markdown",
   "id": "9de59d94-5e4f-432b-b35f-3a985964c230",
   "metadata": {},
   "source": [
    "The R2 score in a way tells what proportion of variance in the result variable is described by the input variable"
   ]
  },
  {
   "cell_type": "markdown",
   "id": "45fc4326-80c8-4222-b897-7cba9a8a3d17",
   "metadata": {
    "jp-MarkdownHeadingCollapsed": true
   },
   "source": [
    "## Adjusted R2 Score"
   ]
  },
  {
   "cell_type": "markdown",
   "id": "54b315cc-1c5b-4694-b7c4-00dd3c0aa0e1",
   "metadata": {},
   "source": [
    "As the input columns increases, the R2 score gets fabricated even when the input column was irrelevant."
   ]
  },
  {
   "cell_type": "markdown",
   "id": "02e42e5c-db4e-4b53-8f4d-93edd08075aa",
   "metadata": {},
   "source": [
    "R2adj = 1 - [ ( 1 - R2 ) * ( n - 1 ) / ( n - 1 - k) ]"
   ]
  },
  {
   "cell_type": "markdown",
   "id": "2b8f65b7-28ba-4ead-8b8d-bf09d863c194",
   "metadata": {},
   "source": [
    "# Implementing the Metrics"
   ]
  },
  {
   "cell_type": "code",
   "execution_count": 1,
   "id": "3a648ce6-8767-4235-a5c4-987d4021ad2a",
   "metadata": {},
   "outputs": [],
   "source": [
    "import pandas as pd\n",
    "import numpy as np\n",
    "from sklearn.model_selection import train_test_split\n",
    "from sklearn.linear_model import LinearRegression\n",
    "from sklearn.metrics import mean_absolute_error, mean_squared_error, r2_score\n",
    "import matplotlib.pyplot as plt"
   ]
  },
  {
   "cell_type": "code",
   "execution_count": 2,
   "id": "a7eebfa7-ac06-4fb5-90fb-efca51c4c8f1",
   "metadata": {},
   "outputs": [
    {
     "data": {
      "text/html": [
       "<div>\n",
       "<style scoped>\n",
       "    .dataframe tbody tr th:only-of-type {\n",
       "        vertical-align: middle;\n",
       "    }\n",
       "\n",
       "    .dataframe tbody tr th {\n",
       "        vertical-align: top;\n",
       "    }\n",
       "\n",
       "    .dataframe thead th {\n",
       "        text-align: right;\n",
       "    }\n",
       "</style>\n",
       "<table border=\"1\" class=\"dataframe\">\n",
       "  <thead>\n",
       "    <tr style=\"text-align: right;\">\n",
       "      <th></th>\n",
       "      <th>cgpa</th>\n",
       "      <th>package</th>\n",
       "    </tr>\n",
       "  </thead>\n",
       "  <tbody>\n",
       "    <tr>\n",
       "      <th>106</th>\n",
       "      <td>6.13</td>\n",
       "      <td>2.19</td>\n",
       "    </tr>\n",
       "  </tbody>\n",
       "</table>\n",
       "</div>"
      ],
      "text/plain": [
       "     cgpa  package\n",
       "106  6.13     2.19"
      ]
     },
     "execution_count": 2,
     "metadata": {},
     "output_type": "execute_result"
    }
   ],
   "source": [
    "df = pd.read_csv('Datasets/cgpa_placement.csv')\n",
    "df.sample()"
   ]
  },
  {
   "cell_type": "code",
   "execution_count": 3,
   "id": "9e89c453-daa4-45d0-b48f-64ec667cbfd6",
   "metadata": {},
   "outputs": [],
   "source": [
    "X , y = df.iloc[:, 0:1], df.iloc[:, -1]"
   ]
  },
  {
   "cell_type": "code",
   "execution_count": 4,
   "id": "423d779e-a871-4e8d-8bb6-1ae999d8335d",
   "metadata": {},
   "outputs": [
    {
     "data": {
      "text/html": [
       "<div>\n",
       "<style scoped>\n",
       "    .dataframe tbody tr th:only-of-type {\n",
       "        vertical-align: middle;\n",
       "    }\n",
       "\n",
       "    .dataframe tbody tr th {\n",
       "        vertical-align: top;\n",
       "    }\n",
       "\n",
       "    .dataframe thead th {\n",
       "        text-align: right;\n",
       "    }\n",
       "</style>\n",
       "<table border=\"1\" class=\"dataframe\">\n",
       "  <thead>\n",
       "    <tr style=\"text-align: right;\">\n",
       "      <th></th>\n",
       "      <th>cgpa</th>\n",
       "    </tr>\n",
       "  </thead>\n",
       "  <tbody>\n",
       "    <tr>\n",
       "      <th>38</th>\n",
       "      <td>8.62</td>\n",
       "    </tr>\n",
       "  </tbody>\n",
       "</table>\n",
       "</div>"
      ],
      "text/plain": [
       "    cgpa\n",
       "38  8.62"
      ]
     },
     "execution_count": 4,
     "metadata": {},
     "output_type": "execute_result"
    }
   ],
   "source": [
    "X_train, X_test, y_train, y_test = train_test_split(X, y, test_size=0.2, random_state=2)\n",
    "X_train.sample()"
   ]
  },
  {
   "cell_type": "code",
   "execution_count": 5,
   "id": "8d30d1aa-e88a-4a7a-ba08-1d6369e9bb08",
   "metadata": {},
   "outputs": [],
   "source": [
    "lr = LinearRegression()\n",
    "lr.fit(X_train, y_train)\n",
    "y_pred = lr.predict(X_test)"
   ]
  },
  {
   "cell_type": "code",
   "execution_count": 6,
   "id": "1d93d6b0-9b9d-4f92-8ca9-b045592d0402",
   "metadata": {},
   "outputs": [
    {
     "data": {
      "image/png": "[encoded data removed]",
      "text/plain": [
       "<Figure size 640x480 with 1 Axes>"
      ]
     },
     "metadata": {},
     "output_type": "display_data"
    }
   ],
   "source": [
    "plt.scatter(x = X, y = y)\n",
    "plt.plot(X_train, lr.predict(X_train), color = 'red')\n",
    "plt.xlabel(\"CGPA\")\n",
    "plt.ylabel(\"Placement in lpa\")\n",
    "plt.show()"
   ]
  },
  {
   "cell_type": "code",
   "execution_count": 7,
   "id": "214a03e4-626e-48bb-9433-69fad29e7ca6",
   "metadata": {},
   "outputs": [
    {
     "data": {
      "text/plain": [
       "0.2884710931878175"
      ]
     },
     "execution_count": 7,
     "metadata": {},
     "output_type": "execute_result"
    }
   ],
   "source": [
    "mean_absolute_error(y_test, y_pred)"
   ]
  },
  {
   "cell_type": "code",
   "execution_count": 8,
   "id": "5a75f9e2-bbbd-4555-9ce7-49c0e535fbf4",
   "metadata": {},
   "outputs": [
    {
     "data": {
      "text/plain": [
       "0.12129235313495527"
      ]
     },
     "execution_count": 8,
     "metadata": {},
     "output_type": "execute_result"
    }
   ],
   "source": [
    "mean_squared_error(y_test, y_pred)"
   ]
  },
  {
   "cell_type": "code",
   "execution_count": 9,
   "id": "3a894a9b-b699-4e13-85c3-430473a5faea",
   "metadata": {},
   "outputs": [
    {
     "data": {
      "text/plain": [
       "0.780730147510384"
      ]
     },
     "execution_count": 9,
     "metadata": {},
     "output_type": "execute_result"
    }
   ],
   "source": [
    "r2 = r2_score(y_test, y_pred)\n",
    "r2"
   ]
  },
  {
   "cell_type": "code",
   "execution_count": 10,
   "id": "fb917f84-7fd5-4668-896c-7ac1780319c7",
   "metadata": {},
   "outputs": [
    {
     "data": {
      "text/plain": [
       "0.34827051717731616"
      ]
     },
     "execution_count": 10,
     "metadata": {},
     "output_type": "execute_result"
    }
   ],
   "source": [
    "np.sqrt(mean_squared_error(y_test, y_pred))"
   ]
  },
  {
   "cell_type": "code",
   "execution_count": 11,
   "id": "9636c28f-aa70-49ec-adce-e7fc263d4a22",
   "metadata": {},
   "outputs": [
    {
     "data": {
      "text/plain": [
       "0.7749598882343415"
      ]
     },
     "execution_count": 11,
     "metadata": {},
     "output_type": "execute_result"
    }
   ],
   "source": [
    "adj_r2 = (1 - ((1-r2)*(X_test.size-1)/(40-1-X_test.shape[1])))\n",
    "adj_r2"
   ]
  },
  {
   "cell_type": "markdown",
   "id": "fdc9f2ba-6a4b-4c25-b986-7cd767fc1e83",
   "metadata": {},
   "source": [
    "## Adding a Random column for R2 Adjusted check"
   ]
  },
  {
   "cell_type": "code",
   "execution_count": 21,
   "id": "e1e885da-a089-4cd6-8837-369d6135c26f",
   "metadata": {},
   "outputs": [
    {
     "data": {
      "text/html": [
       "<div>\n",
       "<style scoped>\n",
       "    .dataframe tbody tr th:only-of-type {\n",
       "        vertical-align: middle;\n",
       "    }\n",
       "\n",
       "    .dataframe tbody tr th {\n",
       "        vertical-align: top;\n",
       "    }\n",
       "\n",
       "    .dataframe thead th {\n",
       "        text-align: right;\n",
       "    }\n",
       "</style>\n",
       "<table border=\"1\" class=\"dataframe\">\n",
       "  <thead>\n",
       "    <tr style=\"text-align: right;\">\n",
       "      <th></th>\n",
       "      <th>cgpa</th>\n",
       "      <th>random</th>\n",
       "      <th>package</th>\n",
       "    </tr>\n",
       "  </thead>\n",
       "  <tbody>\n",
       "    <tr>\n",
       "      <th>count</th>\n",
       "      <td>200.000000</td>\n",
       "      <td>200.000000</td>\n",
       "      <td>200.000000</td>\n",
       "    </tr>\n",
       "    <tr>\n",
       "      <th>mean</th>\n",
       "      <td>6.990500</td>\n",
       "      <td>0.491084</td>\n",
       "      <td>2.996050</td>\n",
       "    </tr>\n",
       "    <tr>\n",
       "      <th>std</th>\n",
       "      <td>1.069409</td>\n",
       "      <td>0.290027</td>\n",
       "      <td>0.691644</td>\n",
       "    </tr>\n",
       "    <tr>\n",
       "      <th>min</th>\n",
       "      <td>4.260000</td>\n",
       "      <td>0.006694</td>\n",
       "      <td>1.370000</td>\n",
       "    </tr>\n",
       "    <tr>\n",
       "      <th>25%</th>\n",
       "      <td>6.190000</td>\n",
       "      <td>0.245183</td>\n",
       "      <td>2.487500</td>\n",
       "    </tr>\n",
       "    <tr>\n",
       "      <th>50%</th>\n",
       "      <td>6.965000</td>\n",
       "      <td>0.494045</td>\n",
       "      <td>2.995000</td>\n",
       "    </tr>\n",
       "    <tr>\n",
       "      <th>75%</th>\n",
       "      <td>7.737500</td>\n",
       "      <td>0.721722</td>\n",
       "      <td>3.492500</td>\n",
       "    </tr>\n",
       "    <tr>\n",
       "      <th>max</th>\n",
       "      <td>9.580000</td>\n",
       "      <td>0.997830</td>\n",
       "      <td>4.620000</td>\n",
       "    </tr>\n",
       "  </tbody>\n",
       "</table>\n",
       "</div>"
      ],
      "text/plain": [
       "             cgpa      random     package\n",
       "count  200.000000  200.000000  200.000000\n",
       "mean     6.990500    0.491084    2.996050\n",
       "std      1.069409    0.290027    0.691644\n",
       "min      4.260000    0.006694    1.370000\n",
       "25%      6.190000    0.245183    2.487500\n",
       "50%      6.965000    0.494045    2.995000\n",
       "75%      7.737500    0.721722    3.492500\n",
       "max      9.580000    0.997830    4.620000"
      ]
     },
     "execution_count": 21,
     "metadata": {},
     "output_type": "execute_result"
    }
   ],
   "source": [
    "df1 = df.copy()\n",
    "df1['random'] = np.random.random(200)\n",
    "df1 = df1[['cgpa','random', 'package']]\n",
    "df1.describe()"
   ]
  },
  {
   "cell_type": "code",
   "execution_count": 13,
   "id": "f913934d-c78a-4729-bceb-3846736ea602",
   "metadata": {},
   "outputs": [],
   "source": [
    "X , y = df1.iloc[:, 0:2], df.iloc[:, -1]\n",
    "X_train, X_test, y_train, y_test = train_test_split(X, y, test_size=0.2, random_state=2)\n",
    "lr = LinearRegression()\n",
    "lr.fit(X_train, y_train)\n",
    "y_pred = lr.predict(X_test)"
   ]
  },
  {
   "cell_type": "code",
   "execution_count": 25,
   "id": "76d743dc-95e6-46ba-b09a-14a4bc099043",
   "metadata": {},
   "outputs": [
    {
     "name": "stdout",
     "output_type": "stream",
     "text": [
      "R2: 0.782343446078542, AdjR2: 0.7705782269476524\n"
     ]
    }
   ],
   "source": [
    "r2 = r2_score(y_test, y_pred)\n",
    "adj_r2 = (1 - (( 1 - r2 )*( X_test.shape[0] - 1)/(40 - 1 - X_test.shape[1])))\n",
    "\n",
    "print(f\"R2: {r2}, AdjR2: {adj_r2}\")"
   ]
  },
  {
   "cell_type": "code",
   "execution_count": null,
   "id": "6b257d2d-ce9d-4225-bb0d-3b8ff8177b39",
   "metadata": {},
   "outputs": [],
   "source": []
  }
 ],
 "metadata": {
  "kernelspec": {
   "display_name": "Python 3 (ipykernel)",
   "language": "python",
   "name": "python3"
  },
  "language_info": {
   "codemirror_mode": {
    "name": "ipython",
    "version": 3
   },
   "file_extension": ".py",
   "mimetype": "text/x-python",
   "name": "python",
   "nbconvert_exporter": "python",
   "pygments_lexer": "ipython3",
   "version": "3.12.7"
  }
 },
 "nbformat": 4,
 "nbformat_minor": 5
}
